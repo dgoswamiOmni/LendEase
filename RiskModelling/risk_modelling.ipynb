{
 "cells": [
  {
   "cell_type": "code",
   "execution_count": 14,
   "id": "initial_id",
   "metadata": {
    "collapsed": true,
    "ExecuteTime": {
     "end_time": "2024-02-18T11:28:31.591073Z",
     "start_time": "2024-02-18T11:28:23.357310Z"
    }
   },
   "outputs": [],
   "source": [
    "import pandas as pd\n",
    "import numpy as np\n",
    "df = pd.read_csv('~/Downloads/loan_data_2007_2014.csv',low_memory=False)"
   ]
  },
  {
   "cell_type": "code",
   "outputs": [
    {
     "name": "stdout",
     "output_type": "stream",
     "text": [
      "<class 'pandas.core.frame.DataFrame'>\n",
      "RangeIndex: 466285 entries, 0 to 466284\n",
      "Data columns (total 74 columns):\n",
      " #   Column                       Non-Null Count   Dtype  \n",
      "---  ------                       --------------   -----  \n",
      " 0   id                           466285 non-null  int64  \n",
      " 1   member_id                    466285 non-null  int64  \n",
      " 2   loan_amnt                    466285 non-null  int64  \n",
      " 3   funded_amnt                  466285 non-null  int64  \n",
      " 4   funded_amnt_inv              466285 non-null  float64\n",
      " 5   term                         466285 non-null  object \n",
      " 6   int_rate                     466285 non-null  float64\n",
      " 7   installment                  466285 non-null  float64\n",
      " 8   grade                        466285 non-null  object \n",
      " 9   sub_grade                    466285 non-null  object \n",
      " 10  emp_title                    438697 non-null  object \n",
      " 11  emp_length                   445277 non-null  object \n",
      " 12  home_ownership               466285 non-null  object \n",
      " 13  annual_inc                   466281 non-null  float64\n",
      " 14  verification_status          466285 non-null  object \n",
      " 15  issue_d                      466285 non-null  object \n",
      " 16  loan_status                  466285 non-null  object \n",
      " 17  pymnt_plan                   466285 non-null  object \n",
      " 18  url                          466285 non-null  object \n",
      " 19  desc                         125981 non-null  object \n",
      " 20  purpose                      466285 non-null  object \n",
      " 21  title                        466264 non-null  object \n",
      " 22  zip_code                     466285 non-null  object \n",
      " 23  addr_state                   466285 non-null  object \n",
      " 24  dti                          466285 non-null  float64\n",
      " 25  delinq_2yrs                  466256 non-null  float64\n",
      " 26  earliest_cr_line             466256 non-null  object \n",
      " 27  inq_last_6mths               466256 non-null  float64\n",
      " 28  mths_since_last_delinq       215934 non-null  float64\n",
      " 29  mths_since_last_record       62638 non-null   float64\n",
      " 30  open_acc                     466256 non-null  float64\n",
      " 31  pub_rec                      466256 non-null  float64\n",
      " 32  revol_bal                    466285 non-null  int64  \n",
      " 33  revol_util                   465945 non-null  float64\n",
      " 34  total_acc                    466256 non-null  float64\n",
      " 35  initial_list_status          466285 non-null  object \n",
      " 36  out_prncp                    466285 non-null  float64\n",
      " 37  out_prncp_inv                466285 non-null  float64\n",
      " 38  total_pymnt                  466285 non-null  float64\n",
      " 39  total_pymnt_inv              466285 non-null  float64\n",
      " 40  total_rec_prncp              466285 non-null  float64\n",
      " 41  total_rec_int                466285 non-null  float64\n",
      " 42  total_rec_late_fee           466285 non-null  float64\n",
      " 43  recoveries                   466285 non-null  float64\n",
      " 44  collection_recovery_fee      466285 non-null  float64\n",
      " 45  last_pymnt_d                 465909 non-null  object \n",
      " 46  last_pymnt_amnt              466285 non-null  float64\n",
      " 47  next_pymnt_d                 239071 non-null  object \n",
      " 48  last_credit_pull_d           466243 non-null  object \n",
      " 49  collections_12_mths_ex_med   466140 non-null  float64\n",
      " 50  mths_since_last_major_derog  98974 non-null   float64\n",
      " 51  policy_code                  466285 non-null  int64  \n",
      " 52  application_type             466285 non-null  object \n",
      " 53  annual_inc_joint             0 non-null       float64\n",
      " 54  dti_joint                    0 non-null       float64\n",
      " 55  verification_status_joint    0 non-null       float64\n",
      " 56  acc_now_delinq               466256 non-null  float64\n",
      " 57  tot_coll_amt                 396009 non-null  float64\n",
      " 58  tot_cur_bal                  396009 non-null  float64\n",
      " 59  open_acc_6m                  0 non-null       float64\n",
      " 60  open_il_6m                   0 non-null       float64\n",
      " 61  open_il_12m                  0 non-null       float64\n",
      " 62  open_il_24m                  0 non-null       float64\n",
      " 63  mths_since_rcnt_il           0 non-null       float64\n",
      " 64  total_bal_il                 0 non-null       float64\n",
      " 65  il_util                      0 non-null       float64\n",
      " 66  open_rv_12m                  0 non-null       float64\n",
      " 67  open_rv_24m                  0 non-null       float64\n",
      " 68  max_bal_bc                   0 non-null       float64\n",
      " 69  all_util                     0 non-null       float64\n",
      " 70  total_rev_hi_lim             396009 non-null  float64\n",
      " 71  inq_fi                       0 non-null       float64\n",
      " 72  total_cu_tl                  0 non-null       float64\n",
      " 73  inq_last_12m                 0 non-null       float64\n",
      "dtypes: float64(46), int64(6), object(22)\n",
      "memory usage: 263.3+ MB\n"
     ]
    }
   ],
   "source": [
    "df.info()"
   ],
   "metadata": {
    "collapsed": false,
    "ExecuteTime": {
     "end_time": "2024-02-18T11:28:31.886972Z",
     "start_time": "2024-02-18T11:28:31.589504Z"
    }
   },
   "id": "87c168e6bc5e29f",
   "execution_count": 15
  },
  {
   "cell_type": "code",
   "outputs": [],
   "source": [
    "data = df.copy() "
   ],
   "metadata": {
    "collapsed": false,
    "ExecuteTime": {
     "end_time": "2024-02-18T11:28:32.047921Z",
     "start_time": "2024-02-18T11:28:31.885573Z"
    }
   },
   "id": "7b0e7e13a0cb7d5",
   "execution_count": 16
  },
  {
   "cell_type": "code",
   "outputs": [],
   "source": [
    "columns_to_drop = ['id', 'member_id', 'sub_grade', 'emp_title', 'url', 'desc', 'title', 'zip_code', 'next_pymnt_d',\n",
    "                          'recoveries', 'collection_recovery_fee', 'total_rec_prncp', 'total_rec_late_fee', 'desc', 'mths_since_last_record',\n",
    "                  'mths_since_last_major_derog', 'annual_inc_joint', 'dti_joint', 'verification_status_joint', 'open_acc_6m', 'open_il_6m',\n",
    "                  'open_il_12m', 'open_il_24m', 'mths_since_rcnt_il', 'total_bal_il', 'il_util', 'open_rv_12m', 'open_rv_24m',\n",
    "                  'max_bal_bc', 'all_util', 'inq_fi', 'total_cu_tl', 'inq_last_12m','policy_code',]\n",
    "data.drop(columns=columns_to_drop, inplace=True, axis=1)\n",
    "#dropping all missing values\n",
    "data.dropna(inplace=True)"
   ],
   "metadata": {
    "collapsed": false,
    "ExecuteTime": {
     "end_time": "2024-02-18T11:28:32.360929Z",
     "start_time": "2024-02-18T11:28:32.054047Z"
    }
   },
   "id": "2e9cda4c8be561ae",
   "execution_count": 17
  },
  {
   "cell_type": "code",
   "outputs": [],
   "source": [
    "def term_numeric(df, column):\n",
    "    df[column] = pd.to_numeric(df[column].str.replace(' months', ''))\n",
    "    \n",
    "term_numeric(data, 'term')\n",
    "\n",
    "#converting emp-length to numeric datatype\n",
    "def emp_length_convert(df, column):\n",
    "    df[column] = df[column].str.replace('\\+ years', '')\n",
    "    df[column] = df[column].str.replace('< 1 year', str(0))\n",
    "    df[column] = df[column].str.replace(' years', '')\n",
    "    df[column] = df[column].str.replace(' year', '')\n",
    "    df[column] = pd.to_numeric(df[column])\n",
    "    df[column].fillna(value = 0, inplace = True)\n",
    "   \n",
    "\n",
    "# preprocessing date columns \n",
    "\n",
    "def date_columns(df, column):\n",
    "    # store current month\n",
    "    today_date = pd.to_datetime('2020-08-01')\n",
    "    # convert to datetime format\n",
    "    df[column] = pd.to_datetime(df[column], format = \"%b-%y\")\n",
    "    # calculate the difference in months and add to a new column\n",
    "    df['mths_since_' + column] = round(pd.to_numeric((today_date - df[column]) / np.timedelta64(1, 'M')))\n",
    "    # make any resulting -ve values to be equal to the max date\n",
    "    df['mths_since_' + column] = df['mths_since_' + column].apply(lambda x: df['mths_since_' + column].max() if x < 0 else x)\n",
    "    # drop the original date column\n",
    "    df.drop(columns = [column], inplace = True)"
   ],
   "metadata": {
    "collapsed": false,
    "ExecuteTime": {
     "end_time": "2024-02-18T11:28:32.438963Z",
     "start_time": "2024-02-18T11:28:32.368473Z"
    }
   },
   "id": "f9a9fb949220d180",
   "execution_count": 18
  },
  {
   "cell_type": "code",
   "outputs": [],
   "source": [
    "# create a new column based on the loan_status column that will be our target variable\n",
    "data['good_bad'] = np.where(data.loc[:, 'loan_status'].isin(['Charged Off', 'Default', 'Late (31-120 days)',\n",
    "                                                                       'Does not meet the credit policy. Status:Charged Off']), 0, 1)\n",
    "# Drop the original 'loan_status' column\n",
    "data.drop(columns = ['loan_status'], inplace = True)"
   ],
   "metadata": {
    "collapsed": false,
    "ExecuteTime": {
     "end_time": "2024-02-18T11:28:32.472378Z",
     "start_time": "2024-02-18T11:28:32.442620Z"
    }
   },
   "id": "2b6078fecdbf0e35",
   "execution_count": 19
  },
  {
   "cell_type": "code",
   "outputs": [],
   "source": [],
   "metadata": {
    "collapsed": false
   },
   "id": "4dcb38549f25e4b"
  }
 ],
 "metadata": {
  "kernelspec": {
   "display_name": "Python 3",
   "language": "python",
   "name": "python3"
  },
  "language_info": {
   "codemirror_mode": {
    "name": "ipython",
    "version": 2
   },
   "file_extension": ".py",
   "mimetype": "text/x-python",
   "name": "python",
   "nbconvert_exporter": "python",
   "pygments_lexer": "ipython2",
   "version": "2.7.6"
  }
 },
 "nbformat": 4,
 "nbformat_minor": 5
}
